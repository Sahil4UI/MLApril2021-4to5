{
 "cells": [
  {
   "cell_type": "code",
   "execution_count": 1,
   "metadata": {},
   "outputs": [
    {
     "name": "stdout",
     "output_type": "stream",
     "text": [
      "Enter Message => hey\n",
      "hey there...\n",
      "Enter Message => date\n",
      "22-04-21,Thu\n",
      "Enter Message => time\n",
      "03:51:07,PM\n",
      "Enter Message => open fb\n",
      "URL :  https://www.fb.com\n",
      "Enter Message => bye\n",
      "Bye..see you later...\n"
     ]
    }
   ],
   "source": [
    "from datetime import datetime as dt\n",
    "import webbrowser\n",
    "helloIntent = [\"hello\",\"hey\",\"hey buddy\",\"hola\",\"hie\"]\n",
    "byeIntent=[\"bye\",\"bie\",\"c u\",\"see you\",\"tata\",\"by\"]\n",
    "dateIntent = [\"date\",\"show me date\",\"date please\",\"dt\"]\n",
    "timeIntent = [\"time\",\"show me time\",\"time please\",\"tt\"]\n",
    "chat = True\n",
    "while chat==True:\n",
    "    msg = input(\"Enter Message => \").lower()\n",
    "    if msg in helloIntent:\n",
    "        print(\"hey there...\")\n",
    "    elif msg in byeIntent:\n",
    "        print(\"Bye..see you later...\")\n",
    "        chat=False\n",
    "    elif msg in dateIntent:\n",
    "        date =dt.now().date()\n",
    "        print(date.strftime(\"%d-%m-%y,%a\"))\n",
    "    elif msg in timeIntent:\n",
    "        date =dt.now().time()\n",
    "        print(date.strftime(\"%I:%M:%S,%p\"))       \n",
    "    elif msg.startswith(\"open\"):\n",
    "        url = \"https://www.\"+msg.split()[-1]+\".com\"\n",
    "        print(\"URL : \",url)\n",
    "        webbrowser.open(url)\n",
    "    else:\n",
    "        print(\"i dont understand .. Please Try Again\")"
   ]
  },
  {
   "cell_type": "code",
   "execution_count": null,
   "metadata": {},
   "outputs": [],
   "source": []
  },
  {
   "cell_type": "code",
   "execution_count": 2,
   "metadata": {},
   "outputs": [],
   "source": [
    "msg=\"open website fb\""
   ]
  },
  {
   "cell_type": "code",
   "execution_count": 3,
   "metadata": {},
   "outputs": [
    {
     "data": {
      "text/plain": [
       "'fb'"
      ]
     },
     "execution_count": 3,
     "metadata": {},
     "output_type": "execute_result"
    }
   ],
   "source": [
    "msg.split()[-1]"
   ]
  },
  {
   "cell_type": "code",
   "execution_count": null,
   "metadata": {},
   "outputs": [],
   "source": []
  }
 ],
 "metadata": {
  "kernelspec": {
   "display_name": "Python 3",
   "language": "python",
   "name": "python3"
  },
  "language_info": {
   "codemirror_mode": {
    "name": "ipython",
    "version": 3
   },
   "file_extension": ".py",
   "mimetype": "text/x-python",
   "name": "python",
   "nbconvert_exporter": "python",
   "pygments_lexer": "ipython3",
   "version": "3.8.5"
  }
 },
 "nbformat": 4,
 "nbformat_minor": 4
}
